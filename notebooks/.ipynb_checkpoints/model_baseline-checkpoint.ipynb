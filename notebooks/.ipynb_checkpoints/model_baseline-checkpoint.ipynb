{
 "cells": [
  {
   "cell_type": "code",
   "execution_count": 2,
   "id": "30db7c28",
   "metadata": {},
   "outputs": [],
   "source": [
    "import pandas as pd\n",
    "import sys\n",
    "sys.path.append('../src')\n",
    "from model_evaluation import split_data, evaluate_model\n",
    "\n",
    "df = pd.read_csv(\"../data/processed/train_clean.csv\")\n",
    "\n",
    "X_train, X_val, X_test, y_train, y_val, y_test = split_data(df)"
   ]
  },
  {
   "cell_type": "code",
   "execution_count": 3,
   "id": "6c7ee4db",
   "metadata": {},
   "outputs": [
    {
     "name": "stdout",
     "output_type": "stream",
     "text": [
      "LogisticRegression - Accuracy: 0.9371 | Recall_1: 0.1567 | F1_1: 0.2486 | Roc_Auc: 0.5747\n"
     ]
    }
   ],
   "source": [
    "from sklearn.linear_model import LogisticRegression\n",
    "\n",
    "logreg_model = LogisticRegression(max_iter=1000)\n",
    "\n",
    "logreg_model.fit(X_train, y_train)\n",
    "\n",
    "evaluate_model(logreg_model, X_val, y_val);"
   ]
  },
  {
   "cell_type": "code",
   "execution_count": 4,
   "id": "c498c95d",
   "metadata": {},
   "outputs": [
    {
     "name": "stdout",
     "output_type": "stream",
     "text": [
      "RandomForestClassifier - Accuracy: 0.7560 | Recall_1: 0.8025 | F1_1: 0.3040 | Roc_Auc: 0.7776\n"
     ]
    }
   ],
   "source": [
    "from sklearn.ensemble import RandomForestClassifier\n",
    "\n",
    "rf_model = RandomForestClassifier(class_weight='balanced', n_estimators=300, max_depth=3, random_state=123)\n",
    "rf_model.fit(X_train, y_train);\n",
    "\n",
    "evaluate_model(rf_model, X_val, y_val);"
   ]
  },
  {
   "cell_type": "code",
   "execution_count": 46,
   "id": "b18586c6",
   "metadata": {},
   "outputs": [
    {
     "name": "stdout",
     "output_type": "stream",
     "text": [
      "HistGradientBoostingClassifier - Accuracy: 0.7403 | Recall_1: 0.8096 | F1_1: 0.2928 | Roc_Auc: 0.7725\n"
     ]
    }
   ],
   "source": [
    "from sklearn.ensemble import HistGradientBoostingClassifier\n",
    "\n",
    "gb_model = HistGradientBoostingClassifier(\n",
    "    class_weight='balanced', max_iter=3, learning_rate=0.1, max_depth=3, random_state=123)\n",
    "\n",
    "gb_model.fit(X_train, y_train);\n",
    "\n",
    "evaluate_model(gb_model, X_val, y_val);"
   ]
  },
  {
   "cell_type": "code",
   "execution_count": 51,
   "id": "3ce1285d",
   "metadata": {},
   "outputs": [
    {
     "name": "stdout",
     "output_type": "stream",
     "text": [
      "RandomForestClassifier - Accuracy: 0.7520 | Recall_1: 0.7847 | F1_1: 0.2960 | Roc_Auc: 0.7672\n"
     ]
    }
   ],
   "source": [
    "y_test_pred = rf_model.predict(X_test)\n",
    "\n",
    "evaluate_model(rf_model, X_test, y_test);"
   ]
  },
  {
   "cell_type": "code",
   "execution_count": null,
   "id": "845f9f28",
   "metadata": {},
   "outputs": [],
   "source": []
  }
 ],
 "metadata": {
  "kernelspec": {
   "display_name": "Python 3 (ipykernel)",
   "language": "python",
   "name": "python3"
  },
  "language_info": {
   "codemirror_mode": {
    "name": "ipython",
    "version": 3
   },
   "file_extension": ".py",
   "mimetype": "text/x-python",
   "name": "python",
   "nbconvert_exporter": "python",
   "pygments_lexer": "ipython3",
   "version": "3.11.7"
  }
 },
 "nbformat": 4,
 "nbformat_minor": 5
}
