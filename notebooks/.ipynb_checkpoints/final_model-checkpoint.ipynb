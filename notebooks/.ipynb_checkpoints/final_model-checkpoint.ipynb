{
 "cells": [
  {
   "cell_type": "markdown",
   "id": "3e740e71",
   "metadata": {},
   "source": [
    "### This notebook retrains the chosen final model (Random Forest) and evaluates it on the test set."
   ]
  },
  {
   "cell_type": "code",
   "execution_count": 1,
   "id": "71962ae8",
   "metadata": {},
   "outputs": [],
   "source": [
    "import pandas as pd\n",
    "import sys\n",
    "sys.path.append('../src')\n",
    "from sklearn.model_selection import train_test_split\n",
    "from model_evaluation import evaluate_model\n",
    "\n",
    "df = pd.read_csv(\"../data/processed/train_clean.csv\")\n",
    "\n",
    "X = df.drop(\"SeriousDlqin2yrs\", axis=1)\n",
    "y = df[\"SeriousDlqin2yrs\"]\n",
    "X_train, X_test, y_train, y_test = train_test_split(X, y, test_size=0.2, stratify=y, random_state=42)"
   ]
  },
  {
   "cell_type": "code",
   "execution_count": 2,
   "id": "5d0fb495",
   "metadata": {},
   "outputs": [
    {
     "name": "stdout",
     "output_type": "stream",
     "text": [
      "HistGradientBoostingClassifier - Accuracy: 0.8074 | Recall_1: 0.8039 | F1_1: 0.3581 | Roc_Auc: 0.8881\n",
      "HistGradientBoostingClassifier - Accuracy: 0.8034 | Recall_1: 0.7676 | F1_1: 0.3429 | Roc_Auc: 0.8692\n"
     ]
    }
   ],
   "source": [
    "from sklearn.ensemble import HistGradientBoostingClassifier\n",
    "\n",
    "gb_model = HistGradientBoostingClassifier(\n",
    "    class_weight='balanced',\n",
    "    max_iter=200,            # 200–500 is common, will stop earlier if using early_stopping\n",
    "    random_state=123)\n",
    "\n",
    "gb_model.fit(X_train, y_train);\n",
    "\n",
    "evaluate_model(gb_model, X_train, y_train);\n",
    "evaluate_model(gb_model, X_test, y_test);"
   ]
  },
  {
   "cell_type": "code",
   "execution_count": null,
   "id": "dfd28b4a",
   "metadata": {},
   "outputs": [],
   "source": []
  }
 ],
 "metadata": {
  "kernelspec": {
   "display_name": "Python 3 (ipykernel)",
   "language": "python",
   "name": "python3"
  },
  "language_info": {
   "codemirror_mode": {
    "name": "ipython",
    "version": 3
   },
   "file_extension": ".py",
   "mimetype": "text/x-python",
   "name": "python",
   "nbconvert_exporter": "python",
   "pygments_lexer": "ipython3",
   "version": "3.11.7"
  }
 },
 "nbformat": 4,
 "nbformat_minor": 5
}
