{
 "cells": [
  {
   "cell_type": "markdown",
   "id": "89382b39",
   "metadata": {},
   "source": [
    "# Data Cleaning – Loan Default Prediction\n",
    "\n",
    "This notebook explores the raw dataset and documents the cleaning process.\n",
    "\n",
    "## Raw data source:\n",
    "- `data/raw/cs-training.csv`"
   ]
  },
  {
   "cell_type": "code",
   "execution_count": 1,
   "id": "65ea91c4",
   "metadata": {},
   "outputs": [],
   "source": [
    "import pandas as pd\n",
    "import numpy as np\n",
    "\n",
    "df = pd.read_csv(\"../data/raw/cs-training.csv\")\n",
    "df = df.drop('Unnamed: 0', axis=1)\n",
    "\n",
    "import sys\n",
    "sys.path.append('../src')\n",
    "\n",
    "from data_preprocessing import fill_missing_with_median, log1p_transform, cap_outliers"
   ]
  },
  {
   "cell_type": "code",
   "execution_count": 2,
   "id": "fb60bbb7",
   "metadata": {},
   "outputs": [],
   "source": [
    "df = fill_missing_with_median(df, ['MonthlyIncome', 'NumberOfDependents'])\n",
    "\n",
    "df['MonthlyIncomePerDependent'] = df['MonthlyIncome'] / (df['NumberOfDependents'] + 1)\n",
    "df['DebtRatioPerDependent'] = df['DebtRatio'] / (df['NumberOfDependents'] + 1)\n",
    "df['DebtRatioPerAge'] = df['DebtRatio'] / df['age']\n",
    "df['RevolvingUtilizationOfUnsecuredLinesPerDependent'] = df['RevolvingUtilizationOfUnsecuredLines'] / (df['NumberOfDependents'] + 1)\n",
    "df['DebtRatioOverIncome'] = df['DebtRatio'] / (df['MonthlyIncome'] + 1)\n",
    "\n",
    "df['WeightedLateScore'] = (1 * df['NumberOfTime30-59DaysPastDueNotWorse'] +\n",
    "                            5 * df['NumberOfTime60-89DaysPastDueNotWorse'] +\n",
    "                            10 * df['NumberOfTimes90DaysLate'])\n",
    "\n",
    "df['WeightedLateScorePerDependent'] = df['WeightedLateScore'] / (df['NumberOfDependents'] + 1)\n",
    "df['WeightedLateScorePerAge'] = df['WeightedLateScore'] / df['age']\n",
    "\n",
    "age_bins = [0, 20, 30, 40, 50, 60, 70, 80, 90, 100]\n",
    "age_labels = ['0-20', '20-30', '30-40', '40-50', '50-60', '60-70', '70-80', '80-90', '90-100']\n",
    "df['AgeGroup'] = pd.cut(df['age'], bins=age_bins, labels=age_labels, right=False)\n",
    "df = pd.get_dummies(df, columns=['AgeGroup'], drop_first=True)\n",
    "\n",
    "df['MonthlyIncomePerAge'] = df['MonthlyIncome'] / df['age']\n",
    "df['TotalMonthlyDebtPayment'] = df['MonthlyIncome'] * df['DebtRatio']"
   ]
  },
  {
   "cell_type": "code",
   "execution_count": 3,
   "id": "93de3406",
   "metadata": {},
   "outputs": [],
   "source": [
    "df.to_csv(\"../data/processed/train_clean.csv\", index=False)"
   ]
  },
  {
   "cell_type": "code",
   "execution_count": null,
   "id": "38f48bb6",
   "metadata": {},
   "outputs": [],
   "source": []
  }
 ],
 "metadata": {
  "kernelspec": {
   "display_name": "Python 3 (ipykernel)",
   "language": "python",
   "name": "python3"
  },
  "language_info": {
   "codemirror_mode": {
    "name": "ipython",
    "version": 3
   },
   "file_extension": ".py",
   "mimetype": "text/x-python",
   "name": "python",
   "nbconvert_exporter": "python",
   "pygments_lexer": "ipython3",
   "version": "3.11.7"
  }
 },
 "nbformat": 4,
 "nbformat_minor": 5
}
