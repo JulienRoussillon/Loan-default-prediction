{
 "cells": [
  {
   "cell_type": "markdown",
   "id": "89382b39",
   "metadata": {},
   "source": [
    "# Data Cleaning – Loan Default Prediction\n",
    "\n",
    "This notebook explores the raw dataset and documents the cleaning process.\n",
    "\n",
    "## Raw data source:\n",
    "- `data/raw/cs-training.csv`"
   ]
  },
  {
   "cell_type": "code",
   "execution_count": 2,
   "id": "65ea91c4",
   "metadata": {},
   "outputs": [],
   "source": [
    "import pandas as pd\n",
    "import numpy as np\n",
    "\n",
    "df = pd.read_csv(\"../data/raw/cs-training.csv\")\n",
    "df = df.drop('Unnamed: 0', axis=1)\n",
    "\n",
    "import sys\n",
    "sys.path.append('../src')\n",
    "\n",
    "from data_preprocessing import fill_missing_with_median, log1p_transform, cap_outliers, create_new_features\n",
    "\n",
    "df = fill_missing_with_median(df, ['MonthlyIncome', 'NumberOfDependents'])\n",
    "\n",
    "df = create_new_features(df)"
   ]
  },
  {
   "cell_type": "code",
   "execution_count": 3,
   "id": "93de3406",
   "metadata": {},
   "outputs": [],
   "source": [
    "df.to_csv(\"../data/processed/train_clean.csv\", index=False)"
   ]
  },
  {
   "cell_type": "code",
   "execution_count": null,
   "id": "38f48bb6",
   "metadata": {},
   "outputs": [],
   "source": []
  }
 ],
 "metadata": {
  "kernelspec": {
   "display_name": "Python 3 (ipykernel)",
   "language": "python",
   "name": "python3"
  },
  "language_info": {
   "codemirror_mode": {
    "name": "ipython",
    "version": 3
   },
   "file_extension": ".py",
   "mimetype": "text/x-python",
   "name": "python",
   "nbconvert_exporter": "python",
   "pygments_lexer": "ipython3",
   "version": "3.11.7"
  }
 },
 "nbformat": 4,
 "nbformat_minor": 5
}
