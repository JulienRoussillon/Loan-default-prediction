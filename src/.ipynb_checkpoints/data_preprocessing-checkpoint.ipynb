{
 "cells": [
  {
   "cell_type": "code",
   "execution_count": 3,
   "id": "f10a8fb5",
   "metadata": {},
   "outputs": [],
   "source": [
    "import pandas as pd\n",
    "import numpy as np\n",
    "\n",
    "def fill_missing_with_median(df, cols):\n",
    "    for col in cols:\n",
    "        df[col] = df[col].fillna(df[col].median())\n",
    "    return df\n",
    "\n",
    "def log1p_transform(df, cols):\n",
    "    for col in cols:\n",
    "        new_col = f\"log1p{col}\"\n",
    "        df[new_col] = np.log1p(df[col])\n",
    "    df.drop(columns=cols, inplace=True)\n",
    "    return df\n",
    "\n",
    "def cap_outliers(df, col, lower_q=0.01, upper_q=0.99):\n",
    "    lower = df[col].quantile(lower_q)\n",
    "    upper = df[col].quantile(upper_q)\n",
    "    df[col] = df[col].clip(lower, upper)\n",
    "    return df"
   ]
  },
  {
   "cell_type": "code",
   "execution_count": null,
   "id": "09afeefe",
   "metadata": {},
   "outputs": [],
   "source": []
  }
 ],
 "metadata": {
  "kernelspec": {
   "display_name": "Python 3 (ipykernel)",
   "language": "python",
   "name": "python3"
  },
  "language_info": {
   "codemirror_mode": {
    "name": "ipython",
    "version": 3
   },
   "file_extension": ".py",
   "mimetype": "text/x-python",
   "name": "python",
   "nbconvert_exporter": "python",
   "pygments_lexer": "ipython3",
   "version": "3.11.7"
  }
 },
 "nbformat": 4,
 "nbformat_minor": 5
}
